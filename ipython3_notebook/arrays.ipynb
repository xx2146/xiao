{
 "metadata": {
  "name": ""
 },
 "nbformat": 3,
 "nbformat_minor": 0,
 "worksheets": [
  {
   "cells": [
    {
     "cell_type": "code",
     "collapsed": false,
     "input": [
      "import numpy as np"
     ],
     "language": "python",
     "metadata": {},
     "outputs": [],
     "prompt_number": 27
    },
    {
     "cell_type": "code",
     "collapsed": false,
     "input": [
      "arr = np.array([1,2,3,4,5])\n",
      "arr.dtype"
     ],
     "language": "python",
     "metadata": {},
     "outputs": [
      {
       "metadata": {},
       "output_type": "pyout",
       "prompt_number": 28,
       "text": [
        "dtype('int64')"
       ]
      }
     ],
     "prompt_number": 28
    },
    {
     "cell_type": "code",
     "collapsed": false,
     "input": [
      "#Operations of arrays and scalars\n",
      "arr = np.array([[1., 2., 3.], [4., 5., 6.]])\n",
      "print(arr)\n",
      "print(arr * arr)\n",
      "print(1/arr)\n",
      "print(arr ** 3)\n",
      "print(arr ** 0.5)"
     ],
     "language": "python",
     "metadata": {},
     "outputs": [
      {
       "output_type": "stream",
       "stream": "stdout",
       "text": [
        "[[ 1.  2.  3.]\n",
        " [ 4.  5.  6.]]\n",
        "[[  1.   4.   9.]\n",
        " [ 16.  25.  36.]]\n",
        "[[ 1.          0.5         0.33333333]\n",
        " [ 0.25        0.2         0.16666667]]\n",
        "[[   1.    8.   27.]\n",
        " [  64.  125.  216.]]\n",
        "[[ 1.          1.41421356  1.73205081]\n",
        " [ 2.          2.23606798  2.44948974]]\n"
       ]
      }
     ],
     "prompt_number": 29
    },
    {
     "cell_type": "code",
     "collapsed": false,
     "input": [
      "#Indexing and slicing\n",
      "arr = np.arange(10)\n",
      "print(arr)\n",
      "print(arr[5])\n",
      "print(arr[5:8])\n",
      "arr[5:8] = 12\n",
      "print(arr)\n",
      "arr_slice = arr[3:5]\n",
      "print(arr_slice)\n",
      "print(arr_slice[1])\n",
      "arr_slice[:] = 11111\n",
      "print(arr)"
     ],
     "language": "python",
     "metadata": {},
     "outputs": [
      {
       "output_type": "stream",
       "stream": "stdout",
       "text": [
        "[0 1 2 3 4 5 6 7 8 9]\n",
        "5\n",
        "[5 6 7]\n",
        "[ 0  1  2  3  4 12 12 12  8  9]\n",
        "[3 4]\n",
        "4\n",
        "[    0     1     2 11111 11111    12    12    12     8     9]\n"
       ]
      }
     ],
     "prompt_number": 30
    },
    {
     "cell_type": "code",
     "collapsed": false,
     "input": [
      "#Slicing a matrix\n",
      "arr2D = np.array([[1, 2, 3, 10], [4, 5, 6, 11], [7, 8, 9, 12]])\n",
      "print(arr2D[1])\n",
      "#Take the items above the row #2 and to the right (and including) the column #1\n",
      "print(arr2D[:2, 1:])"
     ],
     "language": "python",
     "metadata": {},
     "outputs": [
      {
       "output_type": "stream",
       "stream": "stdout",
       "text": [
        "[ 4  5  6 11]\n",
        "[[ 2  3 10]\n",
        " [ 5  6 11]]\n"
       ]
      }
     ],
     "prompt_number": 18
    },
    {
     "cell_type": "code",
     "collapsed": false,
     "input": [
      "#Generating a matrix of random numbers\n",
      "data = np.random.randn(7, 4)\n",
      "print(data)"
     ],
     "language": "python",
     "metadata": {},
     "outputs": [
      {
       "output_type": "stream",
       "stream": "stdout",
       "text": [
        "[[ 0.73377863 -0.51642478 -0.57068756 -0.63466063]\n",
        " [ 0.30923281 -0.00514555  1.22595454  0.29492192]\n",
        " [ 1.71515555 -2.31421407  1.05215562  0.70705315]\n",
        " [ 0.78360737  0.39107791  0.07123653  0.19936876]\n",
        " [ 1.00489038 -0.31765343  0.10398944  0.56788544]\n",
        " [ 2.34159359 -0.00754909  0.608801   -2.21354243]\n",
        " [ 1.43862244  1.48591642 -1.02556188  0.59439868]]\n"
       ]
      }
     ],
     "prompt_number": 31
    },
    {
     "cell_type": "code",
     "collapsed": false,
     "input": [],
     "language": "python",
     "metadata": {},
     "outputs": [
      {
       "ename": "SyntaxError",
       "evalue": "invalid syntax (<ipython-input-32-395bf0dbf162>, line 2)",
       "output_type": "pyerr",
       "traceback": [
        "\u001b[0;36m  File \u001b[0;32m\"<ipython-input-32-395bf0dbf162>\"\u001b[0;36m, line \u001b[0;32m2\u001b[0m\n\u001b[0;31m    16.60174163918345\u001b[0m\n\u001b[0m                    ^\u001b[0m\n\u001b[0;31mSyntaxError\u001b[0m\u001b[0;31m:\u001b[0m invalid syntax\n"
       ]
      }
     ],
     "prompt_number": 32
    },
    {
     "cell_type": "code",
     "collapsed": false,
     "input": [],
     "language": "python",
     "metadata": {},
     "outputs": []
    }
   ],
   "metadata": {}
  }
 ]
}